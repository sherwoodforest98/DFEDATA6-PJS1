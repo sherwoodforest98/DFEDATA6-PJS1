{
  "nbformat": 4,
  "nbformat_minor": 0,
  "metadata": {
    "colab": {
      "name": "006 PyMongo Cosmos.ipynb",
      "provenance": [],
      "collapsed_sections": [],
      "include_colab_link": true
    },
    "kernelspec": {
      "name": "python3",
      "display_name": "Python 3"
    },
    "language_info": {
      "name": "python"
    }
  },
  "cells": [
    {
      "cell_type": "markdown",
      "metadata": {
        "id": "view-in-github",
        "colab_type": "text"
      },
      "source": [
        "<a href=\"https://colab.research.google.com/github/sherwoodforest98/DFEDATA6-PJS1/blob/main/NOSQL_practice_Mongo_Cosmos.ipynb\" target=\"_parent\"><img src=\"https://colab.research.google.com/assets/colab-badge.svg\" alt=\"Open In Colab\"/></a>"
      ]
    },
    {
      "cell_type": "code",
      "metadata": {
        "id": "4J2wIcM1-ZdB"
      },
      "source": [
        "# PLEASE DO NOT CHANGE THIS LINE\n",
        "import pymongo\n",
        "connectionString = \"mongodb://asteroid:qeqpcXHLl1NDTOsnAjH0X8ZkAWgEVUYiusxnjGKgAsc4fKnujvSOOBTdFNYoXFLUs4BFGweeKN1fFZKukehPSA==@asteroid.mongo.cosmos.azure.com:10255/?ssl=true&retrywrites=false&replicaSet=globaldb&maxIdleTimeMS=120000&appName=@asteroid@\"\n",
        "client = pymongo.MongoClient(connectionString)"
      ],
      "execution_count": 1,
      "outputs": []
    },
    {
      "cell_type": "code",
      "metadata": {
        "id": "D1UWc_tb1vAU"
      },
      "source": [
        "mydb = client[\"monkeybar\"] # PLEASE DO NOT CHANGE THIS LINE"
      ],
      "execution_count": 2,
      "outputs": []
    },
    {
      "cell_type": "code",
      "metadata": {
        "id": "ViuCq-5D87BV"
      },
      "source": [
        "mycol = mydb[\"Nottingham\"] # Change collection name 'fish' to anything else that you like!"
      ],
      "execution_count": 3,
      "outputs": []
    },
    {
      "cell_type": "code",
      "metadata": {
        "id": "s-j7opwR9HFW"
      },
      "source": [
        "mydict = { \"name\": \"Brian\", \"address\": \"St Annes\" }\n",
        "\n",
        "x = mycol.insert_one(mydict)"
      ],
      "execution_count": 4,
      "outputs": []
    },
    {
      "cell_type": "code",
      "metadata": {
        "id": "McCQQaXI9SOe"
      },
      "source": [
        "mydict = { \"name\": \"Trent\", \"age\": 36 }\n",
        "\n",
        "x = mycol.insert_one(mydict)"
      ],
      "execution_count": 15,
      "outputs": []
    },
    {
      "cell_type": "code",
      "metadata": {
        "id": "BDOiHbc-G7lM"
      },
      "source": [
        ""
      ],
      "execution_count": null,
      "outputs": []
    },
    {
      "cell_type": "code",
      "metadata": {
        "id": "n0EgDSQq9qIL"
      },
      "source": [
        "r2 = { \"name\": \"Trent\", \"Mapperley\": mydict , \"subjects\":[\"eng\",\"fr\",\"gt\"]}\n",
        "\n",
        "x = mycol.insert_one(r2)"
      ],
      "execution_count": 14,
      "outputs": []
    },
    {
      "cell_type": "code",
      "metadata": {
        "colab": {
          "base_uri": "https://localhost:8080/"
        },
        "id": "Bu_SKVlg94LP",
        "outputId": "3782c44b-30ef-4ac7-835e-ce7b07873eb0"
      },
      "source": [
        "# MongoDB-> Document Database \n",
        "for x in mycol.find():\n",
        "  print(x)"
      ],
      "execution_count": 16,
      "outputs": [
        {
          "output_type": "stream",
          "name": "stdout",
          "text": [
            "{'_id': ObjectId('6213af38906fb79ddf505c75'), 'name': 'Brian', 'address': 'St Annes'}\n",
            "{'_id': ObjectId('6213af4a906fb79ddf505c76'), 'name': 'Trent', 'age': 30}\n",
            "{'_id': ObjectId('6213af61906fb79ddf505c77'), 'name': 'Trent', 'complex': {'name': 'Trent', 'age': 30, '_id': ObjectId('6213af4a906fb79ddf505c76')}, 'subjects': ['eng', 'fr', 'gt']}\n",
            "{'_id': ObjectId('6213b1fb906fb79ddf505c78'), 'name': 'Trent', 'Mapperley': {'name': 'Trent', 'age': 30, '_id': ObjectId('6213af4a906fb79ddf505c76')}, 'subjects': ['eng', 'fr', 'gt']}\n",
            "{'_id': ObjectId('6213b203906fb79ddf505c79'), 'name': 'Trent', 'age': 36}\n"
          ]
        }
      ]
    },
    {
      "cell_type": "code",
      "metadata": {
        "colab": {
          "base_uri": "https://localhost:8080/"
        },
        "id": "1hWjlFs2-d7f",
        "outputId": "48d96b4c-18ef-40fd-95fa-f62486cbb870"
      },
      "source": [
        "for x in mycol.find({\"name\":\"Trent\", \"age\":30}).limit(1):\n",
        "  print(x)"
      ],
      "execution_count": 18,
      "outputs": [
        {
          "output_type": "stream",
          "name": "stdout",
          "text": [
            "{'_id': ObjectId('6213af4a906fb79ddf505c76'), 'name': 'Trent', 'age': 30}\n"
          ]
        }
      ]
    },
    {
      "cell_type": "code",
      "metadata": {
        "colab": {
          "base_uri": "https://localhost:8080/"
        },
        "id": "PaT8LNoeMFRe",
        "outputId": "b4632703-d000-40ee-c526-e76134100ded"
      },
      "source": [
        "myquery = { \"address\": { \"$regex\": \"s$\" } } # for example, this is a \n",
        "# regular expression that ends with letter 'p'\n",
        "\n",
        "mydoc = mycol.find(myquery)\n",
        "\n",
        "for x in mydoc:\n",
        "  print(x)"
      ],
      "execution_count": 24,
      "outputs": [
        {
          "output_type": "stream",
          "name": "stdout",
          "text": [
            "{'_id': ObjectId('6213af38906fb79ddf505c75'), 'name': 'Brian', 'address': 'St Annes'}\n"
          ]
        }
      ]
    },
    {
      "cell_type": "code",
      "metadata": {
        "id": "LY5uckz_MBAe"
      },
      "source": [
        ""
      ],
      "execution_count": null,
      "outputs": []
    }
  ]
}